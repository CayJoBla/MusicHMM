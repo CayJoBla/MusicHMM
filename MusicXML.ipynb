{
 "cells": [
  {
   "cell_type": "code",
   "execution_count": 1,
   "id": "49ae1828",
   "metadata": {},
   "outputs": [],
   "source": [
    "from music21 import *\n",
    "import numpy as np\n",
    "from hmmlearn.hmm import MultinomialHMM"
   ]
  },
  {
   "cell_type": "code",
   "execution_count": 2,
   "id": "4b15d535",
   "metadata": {},
   "outputs": [
    {
     "name": "stdout",
     "output_type": "stream",
     "text": [
      "Total number of Bach pieces to process from music21: 433\n",
      "Updated number of Bach pieces to process from music21: 368\n",
      "Number of songs in g minor key: 43\n",
      "Number of songs in d minor key: 29\n",
      "Number of songs in c minor key: 10\n",
      "Number of songs in b minor key: 27\n",
      "Number of songs in A major key: 32\n",
      "Number of songs in D major key: 25\n",
      "Number of songs in a minor key: 47\n",
      "Number of songs in G major key: 45\n",
      "Number of songs in C major key: 14\n",
      "Number of songs in e minor key: 19\n",
      "Number of songs in F major key: 25\n",
      "Number of songs in B- major key: 22\n",
      "Number of songs in E major key: 9\n",
      "Number of songs in E- major key: 9\n",
      "Number of songs in f# minor key: 7\n",
      "Number of songs in f minor key: 2\n",
      "Number of songs in A- major key: 1\n",
      "Number of songs in b- minor key: 2\n"
     ]
    }
   ],
   "source": [
    "# Analyze Bach music dataset\n",
    "all_bach_paths = corpus.getComposer('bach')\n",
    "print(\"Total number of Bach pieces to process from music21:\", len(all_bach_paths))\n",
    "\n",
    "parsed_bach = []\n",
    "keys = []\n",
    "songs_by_key = {}\n",
    "for i, p_bach in enumerate(all_bach_paths):\n",
    "    p = corpus.parse(p_bach)\n",
    "    if len(p.parts) != 4:\n",
    "        continue\n",
    "    parsed_bach.append(p)\n",
    "    if p.analyze('key') not in keys:\n",
    "        keys.append(p.analyze('key'))\n",
    "        songs_by_key[p.analyze('key')] = [p]\n",
    "    else:\n",
    "        songs_by_key[p.analyze('key')].append(p)\n",
    "        \n",
    "print(\"Updated number of Bach pieces to process from music21:\", len(parsed_bach))\n",
    "for key in keys:\n",
    "    print(\"Number of songs in\", key, \"key:\", len(songs_by_key[key]))"
   ]
  },
  {
   "cell_type": "code",
   "execution_count": 57,
   "id": "b598e33a",
   "metadata": {},
   "outputs": [],
   "source": [
    "# Transpose all songs into C\n",
    "transposed_bach_major = []\n",
    "transposed_bach_minor = []\n",
    "for p in parsed_bach:\n",
    "    k = p.analyze('key')\n",
    "    i = interval.Interval(k.tonic, pitch.Pitch('C'))\n",
    "    if 'major' in k.name:\n",
    "        transposed_bach_major.append(p.transpose(i))\n",
    "    elif 'minor' in k.name:\n",
    "        transposed_bach_minor.append(p.transpose(i))"
   ]
  },
  {
   "cell_type": "code",
   "execution_count": 40,
   "id": "8122f2d2",
   "metadata": {},
   "outputs": [],
   "source": [
    "class Song:\n",
    "    def __init__(self):\n",
    "        \"\"\"Initialize Song class.\n",
    "        \n",
    "        Attributes:\n",
    "            score (Score): Song from music21 Score class\n",
    "            key (str): Key of the song\n",
    "            parts (ndarray(p,n)): Array of parts(p) and notes(n)\n",
    "            n_parts (int): Number of parts in the song\n",
    "            stream (Stream): music21 Stream object generated from parts\n",
    "        \"\"\"\n",
    "        return\n",
    "        \n",
    "    def parse(self, score):\n",
    "        \"\"\"Parse the MusicXML score into a trainable format\"\"\"\n",
    "        parts = []\n",
    "        for i, p in enumerate(score.parts):\n",
    "            # Get notes and rests for part i\n",
    "            notes = []\n",
    "            for n in p.recurse().notesAndRests:\n",
    "                if n.isRest:\n",
    "                    notes.append((0,float(n.quarterLength)))\n",
    "                else:\n",
    "                    notes.append((n.pitch,float(n.quarterLength)))\n",
    "                \n",
    "            # Add notes list for each part to part list\n",
    "            parts.append(notes)  \n",
    "            \n",
    "            self.score = score\n",
    "            self.key = score.analyze('key')\n",
    "            self.parts = np.array(parts, dtype=object)\n",
    "            self.n_parts = len(parts)  \n",
    "        \n",
    "    def gen_stream(self, parts=None):\n",
    "        \"\"\"Generate a song from the parts and notes parsed\n",
    "        \n",
    "        Parameters:\n",
    "            parts (list): list of part indices to generate\n",
    "        \"\"\"\n",
    "        # If None, generate all parts\n",
    "        if parts is None:\n",
    "            parts = np.arange(self.n_parts)\n",
    "        parts = np.array(parts, dtype=int)\n",
    "        \n",
    "        # Generate the song for the parts indicated\n",
    "        s = stream.Stream()\n",
    "        for i, notes in enumerate(self.parts[parts]):\n",
    "            p = stream.Part(id=i)\n",
    "            for n in notes: \n",
    "                if n[0] == 0:\n",
    "                    p.append(note.Rest(quarterLength=n[1]))\n",
    "                else:\n",
    "                    p.append(note.Note(n[0],quarterLength=n[1]))\n",
    "            s.insert(0,p)\n",
    "        self.stream = s\n",
    "        \n",
    "    def play(self):\n",
    "        \"\"\"Play the song generated by gen_stream\"\"\"\n",
    "        self.stream.show('midi')  \n",
    "        \n",
    "    def save(self, filename):\n",
    "        \"\"\"Save the generated song as a midi file\"\"\"\n",
    "        self.stream.write('midi')"
   ]
  },
  {
   "cell_type": "code",
   "execution_count": 53,
   "id": "78488384",
   "metadata": {},
   "outputs": [],
   "source": [
    "class MusicHMM:\n",
    "    def __init__(self, n_components):\n",
    "        \"\"\"Initialize MusicHMM class\n",
    "        \n",
    "        Attributes:\n",
    "            songs (list): List of Song class objects to train on\n",
    "            n_components (int): number of components for the HMM\n",
    "            HMMs (list(MultinomialHMM)): HMM objects for each part\n",
    "            notes (ndarray): Array of possible states\n",
    "            note_ind (func): Map from note state to index\n",
    "            obs (list): Observed sequences of notes by index\n",
    "            obs_len (list): length of observation sequence for each song\n",
    "        \"\"\"\n",
    "        self.n_components = n_components\n",
    "        \n",
    "        \n",
    "    def fit(self, songs, parts=None):\n",
    "        \"\"\"Train the HMM on the list of songs for part indices given\n",
    "        \n",
    "        Parameters:\n",
    "            songs (list): List of parsed Song objects to train on\n",
    "            parts (list): List of part indices to train\n",
    "        \"\"\"\n",
    "        self.songs = songs\n",
    "        \n",
    "        # If None, generate all parts\n",
    "        if parts is None:\n",
    "            parts = np.arange(songs[0].n_parts)\n",
    "        parts = np.array(parts, dtype=int)\n",
    "        \n",
    "        # Generate state space data and observations by index\n",
    "        self.init_states(parts)\n",
    "        self.init_obs_matrices(parts)\n",
    "        \n",
    "        # Train a HMM for each part (???)\n",
    "        n_parts = len(parts)\n",
    "        HMMs = []\n",
    "        for i in range(n_parts):\n",
    "            obs = np.array(self.obs[i]).reshape(-1, 1)   # Reshape observations\n",
    "            hmm = MultinomialHMM(n_components=self.n_components)\n",
    "            hmm.fit(obs, lengths=self.obs_len[i])\n",
    "            HMMs.append(hmm)\n",
    "            \n",
    "        self.HMMs = HMMs\n",
    "        \n",
    "        \n",
    "    def init_states(self, parts):\n",
    "        \"\"\"Create and save a dictionary of unique notes\"\"\"\n",
    "        notes = []\n",
    "        for song in self.songs:\n",
    "            for i, p in enumerate(song.parts[parts]):\n",
    "                for n in p:\n",
    "                    if n not in notes:\n",
    "                        notes.append(n)\n",
    "                    \n",
    "        self.notes = np.array(notes)\n",
    "        self.note_ind = lambda n: notes.index(n)\n",
    "        \n",
    "        \n",
    "    def init_obs_matrices(self, parts):\n",
    "        \"\"\"Create the matrices of note indices observed\"\"\"\n",
    "        # Initialize\n",
    "        n_parts = len(parts)\n",
    "        obs = [[]] * n_parts\n",
    "        obs_len = [[]] * n_parts\n",
    "        \n",
    "        for i in range(n_parts):\n",
    "            for song in self.songs:\n",
    "                p = song.parts[parts[i]]\n",
    "                seq = [self.note_ind(n) for n in p]\n",
    "                obs[i] += seq\n",
    "                obs_len[i].append(len(seq))\n",
    "                \n",
    "        self.obs = obs\n",
    "        self.obs_len = obs_len \n",
    "                \n",
    "               \n",
    "    def gen_song(self, num_notes=40, parts=None):\n",
    "        \"\"\"Sample a new song from the HMM\"\"\"\n",
    "        # If None, generate all parts\n",
    "        if parts is None:\n",
    "            parts = np.arange(self.songs[0].n_parts)\n",
    "        parts = np.array(parts, dtype=int)\n",
    "        \n",
    "        s = stream.Score()\n",
    "        for i in parts:\n",
    "            hmm = self.HMMs[i]\n",
    "            ind = hmm.sample(num_notes)[0].ravel()\n",
    "            notes = self.notes[ind]\n",
    "            \n",
    "            p = stream.Part(id=i)\n",
    "            for n in notes: \n",
    "                if n[0] == 0:\n",
    "                    p.append(note.Rest(quarterLength=n[1]))\n",
    "                else:\n",
    "                    p.append(note.Note(n[0],quarterLength=n[1]))\n",
    "            s.insert(0,p)\n",
    "            \n",
    "        new_song = Song()\n",
    "        new_song.parse(s)\n",
    "        new_song.gen_stream()\n",
    "        \n",
    "        return new_song"
   ]
  },
  {
   "cell_type": "code",
   "execution_count": 36,
   "id": "f78f6ab4",
   "metadata": {},
   "outputs": [
    {
     "data": {
      "text/html": [
       "\n",
       "                <div id='midiPlayerDiv1068443'></div>\n",
       "                <link rel=\"stylesheet\" href=\"//cuthbertLab.github.io/music21j/css/m21.css\"\n",
       "                    type=\"text/css\" />\n",
       "                <script>\n",
       "                require.config({\n",
       "                    paths: {'music21': '//cuthbertLab.github.io/music21j/src/music21'}\n",
       "                });\n",
       "                require(['music21'], function() {\n",
       "                               mp = new music21.miditools.MidiPlayer();\n",
       "                               mp.addPlayer('#midiPlayerDiv1068443');\n",
       "                               mp.base64Load('data:audio/midi;base64,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');\n",
       "                        });\n",
       "                </script>"
      ],
      "text/plain": [
       "<IPython.core.display.HTML object>"
      ]
     },
     "metadata": {},
     "output_type": "display_data"
    }
   ],
   "source": [
    "# Test on one song\n",
    "song = Song()\n",
    "song.parse(parsed_bach[1])\n",
    "song.gen_stream()\n",
    "song.play()"
   ]
  },
  {
   "cell_type": "code",
   "execution_count": 38,
   "id": "88678b99",
   "metadata": {},
   "outputs": [
    {
     "data": {
      "text/html": [
       "\n",
       "                <div id='midiPlayerDiv1074891'></div>\n",
       "                <link rel=\"stylesheet\" href=\"//cuthbertLab.github.io/music21j/css/m21.css\"\n",
       "                    type=\"text/css\" />\n",
       "                <script>\n",
       "                require.config({\n",
       "                    paths: {'music21': '//cuthbertLab.github.io/music21j/src/music21'}\n",
       "                });\n",
       "                require(['music21'], function() {\n",
       "                               mp = new music21.miditools.MidiPlayer();\n",
       "                               mp.addPlayer('#midiPlayerDiv1074891');\n",
       "                               mp.base64Load('data:audio/midi;base64,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');\n",
       "                        });\n",
       "                </script>"
      ],
      "text/plain": [
       "<IPython.core.display.HTML object>"
      ]
     },
     "metadata": {},
     "output_type": "display_data"
    }
   ],
   "source": [
    "# Train on one song\n",
    "mhmm = MusicHMM(2)\n",
    "mhmm.fit([song], parts=[0,1,2,3])\n",
    "new_song = mhmm.gen_song()\n",
    "new_song.play()"
   ]
  },
  {
   "cell_type": "code",
   "execution_count": 58,
   "id": "0cbcd422",
   "metadata": {},
   "outputs": [],
   "source": [
    "# Create song classes for all transposed Bach music\n",
    "maj_songlist = []\n",
    "min_songlist = []\n",
    "\n",
    "for p in transposed_bach_major:\n",
    "    song = Song()\n",
    "    song.parse(p)\n",
    "    maj_songlist.append(song)\n",
    "\n",
    "for p in transposed_bach_minor:\n",
    "    song = Song()\n",
    "    song.parse(p)\n",
    "    min_songlist.append(song)"
   ]
  },
  {
   "cell_type": "code",
   "execution_count": 62,
   "id": "f0923e82",
   "metadata": {},
   "outputs": [],
   "source": [
    "# Train on songlist of transposed music\n",
    "mhmm = MusicHMM(5)\n",
    "mhmm.fit(maj_songlist)"
   ]
  },
  {
   "cell_type": "code",
   "execution_count": 63,
   "id": "7af28e72",
   "metadata": {},
   "outputs": [
    {
     "data": {
      "text/html": [
       "\n",
       "                <div id='midiPlayerDiv2385465'></div>\n",
       "                <link rel=\"stylesheet\" href=\"//cuthbertLab.github.io/music21j/css/m21.css\"\n",
       "                    type=\"text/css\" />\n",
       "                <script>\n",
       "                require.config({\n",
       "                    paths: {'music21': '//cuthbertLab.github.io/music21j/src/music21'}\n",
       "                });\n",
       "                require(['music21'], function() {\n",
       "                               mp = new music21.miditools.MidiPlayer();\n",
       "                               mp.addPlayer('#midiPlayerDiv2385465');\n",
       "                               mp.base64Load('data:audio/midi;base64,TVRoZAAAAAYAAQAFBABNVHJrAAAAFAD/UQMHoSAA/1gEBAIYCIgA/y8ATVRyawAAAMIA/wMAAOAAQIgAkDBahACAMAAAkC5ahACALgAAkDVaiACANQAAkDxaiACAPAAAkDtahACAOwAAkDxahACAPAAAkDVaiACANQAAkDBahACAMAAAkC1aiACALQAAkC1aiACALQAAkDJahACAMgAAkDtahACAOwAAkEVaiACARQAAkDNaiACAMwAAkClakACAKQAAkEhakACASAAAkDdahACANwAAkClahACAKQAAkD5ahACAPgAAkD5ahACAPgCIAP8vAE1UcmsAAADCAP8DAADgAECIAJA3WpAAgDcAAJAwWoIAgDAAAJA8WogAgDwAAJA9WogAgD0AAJA3WogAgDcAAJBAWogAgEAAAJA5WpAAgDkAAJA8WoQAgDwAAJAwWogAgDAAAJAwWoQAgDAAAJA1WoQAgDUAAJA3WpAAgDcAAJA0WoQAgDQAAJA2WoQAgDYAAJBDWpgAgEMAAJA8WogAgDwAAJBAWogAgEAAAJA9WoQAgD0AAJA+WogAgD4AAJA+WogAgD4AiAD/LwBNVHJrAAAAwgD/AwAA4ABAiACQQ1qIAIBDAACQJlqIAIAmAACQOlqEAIA6AACQO1qIAIA7AACQPFqEAIA8AACQN1qMAIA3AACQJFqIAIAkAACQRVqIAIBFAACQNFqEAIA0AACQPFqQAIA8AACQOVqCAIA5AACQOVqIAIA5AACQPlqEAIA+AACQOVqEAIA5AACQOVqIAIA5AACQN1qMAIA3AACQNFqEAIA0AACQMFqIAIAwAACQMlqQAIAyAACQPFqIAIA8AIgA/y8ATVRyawAAAMIA/wMAAOAAQIgAkDlaiACAOQAAkEBakACAQAAAkDlaiACAOQAAkChahACAKAAAkCtaggCAKwAAkDtahACAOwAAkCtakACAKwAAkC9ahACALwAAkDRahACANAAAkChahACAKAAAkDBaiACAMAAAkDJaiACAMgAAkDpahACAOgAAkDJahACAMgAAkD5aiACAPgAAkDtahACAOwAAkDBahACAMAAAkDdaiACANwAAkDdaiACANwAAkCxaiACALACIAP8vAA==');\n",
       "                        });\n",
       "                </script>"
      ],
      "text/plain": [
       "<IPython.core.display.HTML object>"
      ]
     },
     "metadata": {},
     "output_type": "display_data"
    }
   ],
   "source": [
    "new_song = mhmm.gen_song(num_notes=20, parts=None)\n",
    "new_song.play()"
   ]
  },
  {
   "cell_type": "code",
   "execution_count": null,
   "id": "e2d4af9f",
   "metadata": {},
   "outputs": [],
   "source": []
  }
 ],
 "metadata": {
  "kernelspec": {
   "display_name": "Python 3 (ipykernel)",
   "language": "python",
   "name": "python3"
  },
  "language_info": {
   "codemirror_mode": {
    "name": "ipython",
    "version": 3
   },
   "file_extension": ".py",
   "mimetype": "text/x-python",
   "name": "python",
   "nbconvert_exporter": "python",
   "pygments_lexer": "ipython3",
   "version": "3.8.12"
  }
 },
 "nbformat": 4,
 "nbformat_minor": 5
}
