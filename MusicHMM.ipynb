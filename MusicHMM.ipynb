{
 "cells": [
  {
   "cell_type": "markdown",
   "id": "7aeb73ef",
   "metadata": {},
   "source": [
    "# <center> MusicHMM"
   ]
  },
  {
   "cell_type": "markdown",
   "id": "41b9b911",
   "metadata": {},
   "source": [
    "### Bach Dataset Analysis"
   ]
  },
  {
   "cell_type": "code",
   "execution_count": 5,
   "id": "29f75237",
   "metadata": {},
   "outputs": [
    {
     "name": "stdout",
     "output_type": "stream",
     "text": [
      "Loading bach dataset from bach_C_major.pkl\n"
     ]
    }
   ],
   "source": [
    "from musichmm import BachDataset\n",
    "\n",
    "data = BachDataset(transpose_key='C', major=True)"
   ]
  },
  {
   "cell_type": "markdown",
   "id": "1c50aaef",
   "metadata": {},
   "source": [
    "#### Examine the note states in a single part of the song dataset"
   ]
  },
  {
   "cell_type": "code",
   "execution_count": 7,
   "id": "9a881f7d",
   "metadata": {},
   "outputs": [
    {
     "name": "stdout",
     "output_type": "stream",
     "text": [
      "Number of unique states: 129\n",
      "Number of non-singular states: 108\n",
      "Number of singular states: 21\n"
     ]
    }
   ],
   "source": [
    "import numpy as np\n",
    "\n",
    "part_sequences = data.to_states()   # (part, song, state sequence)\n",
    "part = part_sequences[0]            # (song, state sequence); only consider the first part\n",
    "\n",
    "lengths = np.array([len(song) for song in part])\n",
    "unique_states, sequence, counts = np.unique(np.concatenate(part), return_inverse=True, return_counts=True)\n",
    "\n",
    "print(\"Number of unique states:\", len(unique_states))\n",
    "print(\"Number of non-singular states:\", np.sum(counts > 1))\n",
    "print(\"Number of singular states:\", np.sum(counts == 1))"
   ]
  },
  {
   "cell_type": "code",
   "execution_count": 8,
   "id": "8e87b8f8",
   "metadata": {},
   "outputs": [
    {
     "data": {
      "text/plain": [
       "array([NoteState(None, 0.5), NoteState(F3, 2.0), NoteState(G3, 4.0),\n",
       "       NoteState(G#3, 1.0), NoteState(G#3, 2.0), NoteState(A3, 0.25),\n",
       "       NoteState(A3, 0.75), NoteState(B3, 0.25), NoteState(B3, 1.5),\n",
       "       NoteState(B3, 3.0), NoteState(C#4, 2.0), NoteState(D4, 0.75),\n",
       "       NoteState(F4, 0.75), NoteState(F4, 4.0), NoteState(G#4, 2.0),\n",
       "       NoteState(B-4, 4.0), NoteState(B4, 0.125), NoteState(C5, 8.0),\n",
       "       NoteState(D5, 0.75), NoteState(G5, 0.25), NoteState(A5, 1.0)],\n",
       "      dtype=object)"
      ]
     },
     "execution_count": 8,
     "metadata": {},
     "output_type": "execute_result"
    }
   ],
   "source": [
    "# Look at the states that only appear once in the data\n",
    "singular_states = unique_states[counts == 1]\n",
    "singular_states"
   ]
  },
  {
   "cell_type": "markdown",
   "id": "cecc7d4e",
   "metadata": {},
   "source": [
    "## SimpleMusicHMM"
   ]
  },
  {
   "cell_type": "code",
   "execution_count": 12,
   "id": "36133093",
   "metadata": {},
   "outputs": [
    {
     "name": "stdout",
     "output_type": "stream",
     "text": [
      "[[31]\n",
      " [42]\n",
      " [51]\n",
      " ...\n",
      " [57]\n",
      " [46]\n",
      " [33]]\n"
     ]
    }
   ],
   "source": [
    "from musichmm import SimpleMusicHMM\n",
    "\n",
    "hmm = SimpleMusicHMM(20).fit(data)"
   ]
  },
  {
   "cell_type": "code",
   "execution_count": 13,
   "id": "a7446ca0",
   "metadata": {},
   "outputs": [],
   "source": [
    "hmm.gen_song(30).save('songs/generated.mid')"
   ]
  },
  {
   "cell_type": "markdown",
   "id": "73954deb",
   "metadata": {},
   "source": [
    "#### TODOs:\n",
    "- Add 'start' and 'end' states to the HMM. This also removes absorbing states (opting for a final \"End\" absorbing state)"
   ]
  }
 ],
 "metadata": {
  "kernelspec": {
   "display_name": "Python 3 (ipykernel)",
   "language": "python",
   "name": "python3"
  },
  "language_info": {
   "codemirror_mode": {
    "name": "ipython",
    "version": 3
   },
   "file_extension": ".py",
   "mimetype": "text/x-python",
   "name": "python",
   "nbconvert_exporter": "python",
   "pygments_lexer": "ipython3",
   "version": "3.12.2"
  }
 },
 "nbformat": 4,
 "nbformat_minor": 5
}
