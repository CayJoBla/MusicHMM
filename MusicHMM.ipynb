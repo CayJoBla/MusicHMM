{
 "cells": [
  {
   "cell_type": "markdown",
   "id": "7aeb73ef",
   "metadata": {},
   "source": [
    "# <center> MusicHMM"
   ]
  },
  {
   "cell_type": "markdown",
   "id": "41b9b911",
   "metadata": {},
   "source": [
    "### Bach Dataset Analysis"
   ]
  },
  {
   "cell_type": "code",
   "execution_count": 1,
   "id": "29f75237",
   "metadata": {},
   "outputs": [
    {
     "name": "stdout",
     "output_type": "stream",
     "text": [
      "Loading bach dataset from bach_C_major.pkl\n"
     ]
    }
   ],
   "source": [
    "from musichmm import BachDataset\n",
    "\n",
    "data = BachDataset(transpose_key='C', major=True)"
   ]
  },
  {
   "cell_type": "code",
   "execution_count": 2,
   "id": "a80be19d",
   "metadata": {},
   "outputs": [
    {
     "name": "stdout",
     "output_type": "stream",
     "text": [
      "Number of songs in the dataset: 182\n"
     ]
    }
   ],
   "source": [
    "print(\"Number of songs in the dataset:\", len(data))"
   ]
  },
  {
   "cell_type": "markdown",
   "id": "1c50aaef",
   "metadata": {},
   "source": [
    "#### Examine the note states in a single part of the song dataset"
   ]
  },
  {
   "cell_type": "code",
   "execution_count": 3,
   "id": "9a881f7d",
   "metadata": {},
   "outputs": [
    {
     "name": "stdout",
     "output_type": "stream",
     "text": [
      "Number of unique states: 129\n",
      "Number of non-singular states: 108\n",
      "Number of singular states: 21\n"
     ]
    }
   ],
   "source": [
    "import numpy as np\n",
    "\n",
    "part_sequences = data.to_states()   # (part, song, state sequence)\n",
    "part = part_sequences[0]            # (song, state sequence); only consider the first part\n",
    "\n",
    "unique_states, counts = np.unique(np.concatenate(part), return_counts=True)\n",
    "\n",
    "print(\"Number of unique states:\", len(unique_states))\n",
    "print(\"Number of non-singular states:\", np.sum(counts > 1))\n",
    "print(\"Number of singular states:\", np.sum(counts == 1))"
   ]
  },
  {
   "cell_type": "code",
   "execution_count": 4,
   "id": "8e87b8f8",
   "metadata": {},
   "outputs": [
    {
     "data": {
      "text/plain": [
       "array([NoteState(F3, 2.0), NoteState(G3, 4.0), NoteState(G#3, 1.0),\n",
       "       NoteState(G#3, 2.0), NoteState(A3, 0.25), NoteState(A3, 0.75),\n",
       "       NoteState(B3, 0.25), NoteState(B3, 1.5), NoteState(B3, 3.0),\n",
       "       NoteState(C#4, 2.0), NoteState(D4, 0.75), NoteState(F4, 0.75),\n",
       "       NoteState(F4, 4.0), NoteState(G#4, 2.0), NoteState(B-4, 4.0),\n",
       "       NoteState(B4, 0.125), NoteState(C5, 8.0), NoteState(D5, 0.75),\n",
       "       NoteState(G5, 0.25), NoteState(A5, 1.0), NoteState(REST, 0.5)],\n",
       "      dtype=object)"
      ]
     },
     "execution_count": 4,
     "metadata": {},
     "output_type": "execute_result"
    }
   ],
   "source": [
    "# Look at the states that only appear once in the data\n",
    "singular_states = unique_states[counts == 1]\n",
    "singular_states"
   ]
  },
  {
   "cell_type": "code",
   "execution_count": 5,
   "id": "cab53de2",
   "metadata": {},
   "outputs": [
    {
     "data": {
      "text/plain": [
       "array([NoteState(F3, 1.0), NoteState(F3, 2.0), NoteState(F#3, 1.0),\n",
       "       NoteState(G3, 0.5), NoteState(G3, 1.0), NoteState(G3, 2.0),\n",
       "       NoteState(G3, 3.0), NoteState(G3, 4.0), NoteState(G#3, 1.0),\n",
       "       NoteState(G#3, 2.0), NoteState(A3, 0.25), NoteState(A3, 0.5),\n",
       "       NoteState(A3, 0.75), NoteState(A3, 1.0), NoteState(A3, 1.5),\n",
       "       NoteState(A3, 2.0), NoteState(A3, 3.0), NoteState(A3, 4.0),\n",
       "       NoteState(B-3, 0.5), NoteState(B-3, 1.0), NoteState(B3, 0.125),\n",
       "       NoteState(B3, 0.25), NoteState(B3, 0.5), NoteState(B3, 1.0),\n",
       "       NoteState(B3, 1.5), NoteState(B3, 2.0), NoteState(B3, 3.0),\n",
       "       NoteState(C4, 0.125), NoteState(C4, 0.5), NoteState(C4, 0.75),\n",
       "       NoteState(C4, 1.0), NoteState(C4, 1.5), NoteState(C4, 2.0),\n",
       "       NoteState(C4, 3.0), NoteState(C4, 4.0), NoteState(C#4, 0.5),\n",
       "       NoteState(C#4, 1.0), NoteState(C#4, 2.0), NoteState(D4, 0.25),\n",
       "       NoteState(D4, 0.5), NoteState(D4, 0.75), NoteState(D4, 1.0),\n",
       "       NoteState(D4, 1.5), NoteState(D4, 2.0), NoteState(D4, 3.0),\n",
       "       NoteState(E4, 0.25), NoteState(E4, 0.5), NoteState(E4, 0.75),\n",
       "       NoteState(E4, 1.0), NoteState(E4, 1.5), NoteState(E4, 2.0),\n",
       "       NoteState(E4, 3.0), NoteState(E4, 4.0), NoteState(F4, 0.25),\n",
       "       NoteState(F4, 0.5), NoteState(F4, 0.75), NoteState(F4, 1.0),\n",
       "       NoteState(F4, 1.5), NoteState(F4, 2.0), NoteState(F4, 3.0),\n",
       "       NoteState(F4, 4.0), NoteState(F#4, 0.5), NoteState(F#4, 1.0),\n",
       "       NoteState(F#4, 2.0), NoteState(G4, 0.25), NoteState(G4, 0.5),\n",
       "       NoteState(G4, 0.75), NoteState(G4, 1.0), NoteState(G4, 1.5),\n",
       "       NoteState(G4, 2.0), NoteState(G4, 3.0), NoteState(G4, 4.0),\n",
       "       NoteState(G#4, 1.0), NoteState(G#4, 2.0), NoteState(A4, 0.25),\n",
       "       NoteState(A4, 0.5), NoteState(A4, 0.75), NoteState(A4, 1.0),\n",
       "       NoteState(A4, 1.5), NoteState(A4, 2.0), NoteState(A4, 3.0),\n",
       "       NoteState(B-4, 0.25), NoteState(B-4, 0.5), NoteState(B-4, 1.0),\n",
       "       NoteState(B-4, 4.0), NoteState(B4, 0.125), NoteState(B4, 0.25),\n",
       "       NoteState(B4, 0.5), NoteState(B4, 0.75), NoteState(B4, 1.0),\n",
       "       NoteState(B4, 1.5), NoteState(B4, 2.0), NoteState(B4, 3.0),\n",
       "       NoteState(B4, 4.0), NoteState(C5, 0.125), NoteState(C5, 0.25),\n",
       "       NoteState(C5, 0.5), NoteState(C5, 1.0), NoteState(C5, 1.5),\n",
       "       NoteState(C5, 2.0), NoteState(C5, 3.0), NoteState(C5, 8.0),\n",
       "       NoteState(C#5, 1.0), NoteState(D5, 0.125), NoteState(D5, 0.25),\n",
       "       NoteState(D5, 0.5), NoteState(D5, 0.75), NoteState(D5, 1.0),\n",
       "       NoteState(D5, 1.5), NoteState(D5, 2.0), NoteState(D5, 3.0),\n",
       "       NoteState(E5, 0.25), NoteState(E5, 0.5), NoteState(E5, 1.0),\n",
       "       NoteState(E5, 1.5), NoteState(E5, 2.0), NoteState(E5, 3.0),\n",
       "       NoteState(F5, 0.25), NoteState(F5, 0.5), NoteState(F5, 1.0),\n",
       "       NoteState(F5, 2.0), NoteState(G5, 0.25), NoteState(G5, 0.5),\n",
       "       NoteState(G5, 1.0), NoteState(G5, 1.5), NoteState(A5, 1.0),\n",
       "       NoteState(REST, 0.5), NoteState(REST, 1.0), NoteState(REST, 2.0)],\n",
       "      dtype=object)"
      ]
     },
     "execution_count": 5,
     "metadata": {},
     "output_type": "execute_result"
    }
   ],
   "source": [
    "unique_states"
   ]
  },
  {
   "cell_type": "code",
   "execution_count": 6,
   "id": "7893373f",
   "metadata": {},
   "outputs": [
    {
     "name": "stdout",
     "output_type": "stream",
     "text": [
      "Number of unique pitches: 26\n",
      "Number of unique durations: 10\n",
      "Number of singular pitches: 3\n",
      "Number of singular durations: 1\n"
     ]
    }
   ],
   "source": [
    "unique_pitches, pitch_counts = np.unique([state.pitch for state in unique_states if state.pitch is not None], return_counts=True)\n",
    "unique_durations, duration_counts = np.unique([state.duration for state in unique_states], return_counts=True)\n",
    "\n",
    "print(\"Number of unique pitches:\", len(unique_pitches))\n",
    "print(\"Number of unique durations:\", len(unique_durations))\n",
    "print(\"Number of singular pitches:\", np.sum(pitch_counts == 1))\n",
    "print(\"Number of singular durations:\", np.sum(duration_counts == 1))"
   ]
  },
  {
   "cell_type": "code",
   "execution_count": 7,
   "id": "833e8014",
   "metadata": {},
   "outputs": [
    {
     "name": "stdout",
     "output_type": "stream",
     "text": [
      "Unique pitches: ['A3' 'A4' 'A5' 'B-3' 'B-4' 'B3' 'B4' 'C#4' 'C#5' 'C4' 'C5' 'D4' 'D5' 'E4'\n",
      " 'E5' 'F#3' 'F#4' 'F3' 'F4' 'F5' 'G#3' 'G#4' 'G3' 'G4' 'G5' 'REST']\n",
      "Unique durations: [0.125 0.25  0.5   0.75  1.    1.5   2.    3.    4.    8.   ]\n"
     ]
    }
   ],
   "source": [
    "print(\"Unique pitches:\", unique_pitches)\n",
    "print(\"Unique durations:\", unique_durations)"
   ]
  },
  {
   "cell_type": "markdown",
   "id": "107a9043",
   "metadata": {},
   "source": [
    "#### Plot the counts for each NoteState"
   ]
  },
  {
   "cell_type": "code",
   "execution_count": 8,
   "id": "99a19413",
   "metadata": {},
   "outputs": [
    {
     "data": {
      "image/png": "[encoded data removed]",
      "text/plain": [
       "<Figure size 640x480 with 1 Axes>"
      ]
     },
     "metadata": {
      "image/png": {
       "height": 454,
       "width": 571
      }
     },
     "output_type": "display_data"
    }
   ],
   "source": [
    "from matplotlib import pyplot as plt\n",
    "\n",
    "plt.hist(counts, bins=20)\n",
    "plt.xlabel(\"Number of occurrences\")\n",
    "plt.ylabel(\"Number of states\")\n",
    "plt.title(\"Number of occurrences of each state in the data\")\n",
    "plt.show()"
   ]
  },
  {
   "cell_type": "markdown",
   "id": "0a92fd60",
   "metadata": {},
   "source": [
    "# Models"
   ]
  },
  {
   "cell_type": "markdown",
   "id": "30c2aa8e",
   "metadata": {},
   "source": [
    "I will look at a variety of different HMM music generation models."
   ]
  },
  {
   "cell_type": "code",
   "execution_count": 9,
   "id": "213f8ea6",
   "metadata": {},
   "outputs": [],
   "source": [
    "num_hidden_states = 20  # Number of hidden states to use in every model"
   ]
  },
  {
   "cell_type": "code",
   "execution_count": 10,
   "id": "185f49dc",
   "metadata": {},
   "outputs": [],
   "source": [
    "from musichmm import SongDataset\n",
    "\n",
    "# Define a simpler dataset that only contains the first part of each song\n",
    "simple_data = SongDataset([song.part(0) for song in data])  "
   ]
  },
  {
   "cell_type": "markdown",
   "id": "cecc7d4e",
   "metadata": {},
   "source": [
    "## SimpleMusicHMM"
   ]
  },
  {
   "cell_type": "markdown",
   "id": "65ae9a7a",
   "metadata": {},
   "source": [
    "The SimpleMusicHMM model only trains on songs with a single part, and therefore a single sequence of NoteState objects."
   ]
  },
  {
   "cell_type": "code",
   "execution_count": 11,
   "id": "e8fd5dfe",
   "metadata": {},
   "outputs": [
    {
     "name": "stdout",
     "output_type": "stream",
     "text": [
      "[NoteState(C4, 0.5), NoteState(D4, 0.5), NoteState(E4, 1.0), NoteState(F4, 1.0), NoteState(G4, 1.0), NoteState(F4, 1.0), NoteState(E4, 1.0), NoteState(D4, 1.0), NoteState(E4, 1.0), NoteState(E4, 1.0), NoteState(E4, 1.0), NoteState(D4, 0.5), NoteState(E4, 0.5), NoteState(F4, 0.5), NoteState(E4, 0.5), NoteState(D4, 1.0), NoteState(C4, 1.0), NoteState(D4, 1.0), NoteState(C4, 1.0), NoteState(C4, 1.0), NoteState(D4, 1.0), NoteState(E4, 1.0), NoteState(F4, 1.0), NoteState(E4, 1.0), NoteState(D4, 1.0), NoteState(E4, 1.0), NoteState(D4, 1.0), NoteState(D4, 1.0), NoteState(E4, 1.0), NoteState(F4, 1.0), NoteState(G4, 1.0), NoteState(F4, 1.0), NoteState(E4, 1.0), NoteState(D4, 1.0), NoteState(E4, 1.0), NoteState(E4, 1.0), NoteState(E4, 1.0), NoteState(D4, 0.5), NoteState(E4, 0.5), NoteState(F4, 0.5), NoteState(E4, 0.5), NoteState(D4, 1.0), NoteState(C4, 0.5), NoteState(A3, 0.5), NoteState(B3, 1.0), NoteState(C4, 1.0)]\n"
     ]
    }
   ],
   "source": [
    "# Take a look at an example state sequence\n",
    "print(simple_data[0].to_states()[0])"
   ]
  },
  {
   "cell_type": "code",
   "execution_count": 12,
   "id": "36133093",
   "metadata": {},
   "outputs": [],
   "source": [
    "from musichmm import SimpleMusicHMM\n",
    "\n",
    "simple_hmm = SimpleMusicHMM(num_hidden_states)"
   ]
  },
  {
   "cell_type": "code",
   "execution_count": 13,
   "id": "036da0ac",
   "metadata": {},
   "outputs": [
    {
     "data": {
      "text/plain": [
       "array([28, 39, 48, 56, 67, 56, 48, 41, 48, 48, 48, 39, 46, 54, 46, 41, 30,\n",
       "       41, 30, 30, 41, 48, 56, 48, 41, 48, 41, 41, 48, 56, 67, 56, 48, 41,\n",
       "       48, 48, 48, 39, 46, 54, 46, 41, 28, 11, 23, 30, 30, 30, 41, 49, 61,\n",
       "       67, 69, 62, 69, 48, 58, 48, 43, 30, 44, 33, 41, 41, 48, 58, 56, 49,\n",
       "       39, 48, 44, 48, 48, 48, 57, 65, 77, 79, 72, 79, 89, 97, 50, 58, 48,\n",
       "       41, 41, 67, 78, 65, 56, 46, 39, 42, 28, 33, 28, 39, 48, 56])"
      ]
     },
     "execution_count": 13,
     "metadata": {},
     "output_type": "execute_result"
    }
   ],
   "source": [
    "simple_hmm.initialize_states(simple_data)[0].flatten()[:100]    # First 100 states encoded as state indices"
   ]
  },
  {
   "cell_type": "code",
   "execution_count": 14,
   "id": "7fa515c1",
   "metadata": {},
   "outputs": [
    {
     "data": {
      "text/plain": [
       "<musichmm.models.SimpleMusicHMM.SimpleMusicHMM at 0x7f79c9b584d0>"
      ]
     },
     "execution_count": 14,
     "metadata": {},
     "output_type": "execute_result"
    }
   ],
   "source": [
    "simple_hmm.fit(simple_data)"
   ]
  },
  {
   "cell_type": "code",
   "execution_count": 15,
   "id": "a7446ca0",
   "metadata": {},
   "outputs": [
    {
     "data": {
      "text/plain": [
       "array([ 67, 127,  41,  30,  41,  43,  30,  48,  43,  48])"
      ]
     },
     "execution_count": 15,
     "metadata": {},
     "output_type": "execute_result"
    }
   ],
   "source": [
    "# Example of sampling from the model\n",
    "simple_hmm.sample(num_notes=10).flatten()       # This is not the note sequence in the generated song"
   ]
  },
  {
   "cell_type": "code",
   "execution_count": 16,
   "id": "caad3555",
   "metadata": {},
   "outputs": [],
   "source": [
    "simple_generated_song = simple_hmm.generate_song(num_notes=100)"
   ]
  },
  {
   "cell_type": "code",
   "execution_count": 17,
   "id": "fc9cd3a8",
   "metadata": {},
   "outputs": [],
   "source": [
    "simple_generated_song.save('songs/simple_generated.mid')"
   ]
  },
  {
   "cell_type": "markdown",
   "id": "89d87a24",
   "metadata": {},
   "source": [
    "# SimpleIndependentMusicHMM"
   ]
  },
  {
   "cell_type": "markdown",
   "id": "db031c62",
   "metadata": {},
   "source": [
    "The SimpleIndependentMusicHMM model only trains on songs with a single part; however, it separates the pitch and duration states into two separate HMMs.\n",
    "While this makes the assumption that pitch and duration are independent, it takes advantage of the smaller state space for each, making the problem easier.\n",
    "This is a fairly trivial extension, since the the number of states is the same for each HMM."
   ]
  },
  {
   "cell_type": "code",
   "execution_count": 18,
   "id": "ed0842e2",
   "metadata": {},
   "outputs": [],
   "source": [
    "from musichmm import SimpleIndependentMusicHMM\n",
    "\n",
    "simple_indep_hmm = SimpleIndependentMusicHMM(num_hidden_states)"
   ]
  },
  {
   "cell_type": "code",
   "execution_count": 19,
   "id": "01ab06c8",
   "metadata": {},
   "outputs": [
    {
     "data": {
      "text/plain": [
       "array([[ 9,  2],\n",
       "       [11,  2],\n",
       "       [13,  4],\n",
       "       ...,\n",
       "       [18,  2],\n",
       "       [11,  6],\n",
       "       [ 9,  4]])"
      ]
     },
     "execution_count": 19,
     "metadata": {},
     "output_type": "execute_result"
    }
   ],
   "source": [
    "# Example of state sequence input to the model\n",
    "simple_indep_hmm.initialize_states(simple_data)[0]"
   ]
  },
  {
   "cell_type": "code",
   "execution_count": 20,
   "id": "64b21d3f",
   "metadata": {},
   "outputs": [
    {
     "data": {
      "text/plain": [
       "<musichmm.models.SimpleIndependentMusicHMM.SimpleIndependentMusicHMM at 0x7f79c9a25e20>"
      ]
     },
     "execution_count": 20,
     "metadata": {},
     "output_type": "execute_result"
    }
   ],
   "source": [
    "simple_indep_hmm.fit(simple_data)"
   ]
  },
  {
   "cell_type": "code",
   "execution_count": 21,
   "id": "06b554f3",
   "metadata": {},
   "outputs": [
    {
     "data": {
      "text/plain": [
       "array([[10,  4],\n",
       "       [10,  4],\n",
       "       [10,  2],\n",
       "       [19,  2],\n",
       "       [23,  4],\n",
       "       [13,  6],\n",
       "       [18,  6],\n",
       "       [ 9,  4],\n",
       "       [18,  2],\n",
       "       [13,  2]])"
      ]
     },
     "execution_count": 21,
     "metadata": {},
     "output_type": "execute_result"
    }
   ],
   "source": [
    "simple_indep_hmm.sample(num_notes=10)"
   ]
  },
  {
   "cell_type": "code",
   "execution_count": 22,
   "id": "1de4eaef",
   "metadata": {},
   "outputs": [],
   "source": [
    "simple_indep_generated_song = simple_indep_hmm.generate_song(num_notes=100)"
   ]
  },
  {
   "cell_type": "code",
   "execution_count": 23,
   "id": "944ed7fe",
   "metadata": {},
   "outputs": [],
   "source": [
    "simple_indep_generated_song.save(\"songs/simple_indep_generated.mid\")"
   ]
  },
  {
   "cell_type": "code",
   "execution_count": null,
   "id": "118a8bd5",
   "metadata": {},
   "outputs": [],
   "source": []
  },
  {
   "cell_type": "markdown",
   "id": "73954deb",
   "metadata": {},
   "source": [
    "#### TODOs:\n",
    "- Implement the NaiveMusicHMM model with the CategoricalHMM for all parts\n",
    "    * Should I do this with the pitch/duration independence or not?\n",
    "- Implement the dependent model (worth it?)"
   ]
  },
  {
   "cell_type": "markdown",
   "id": "f7c601be",
   "metadata": {},
   "source": [
    "#### IDEAS:\n",
    "- Get the probability of generated note sequences\n",
    "- Use the MultinomialHMM with 2 dimensions and let one dimension be pitches and the other be durations\n"
   ]
  },
  {
   "cell_type": "markdown",
   "id": "32ea54b9",
   "metadata": {},
   "source": [
    "#### Presentation\n",
    "- Talk about tokenization problems\n",
    "- Walk through the progression from Simple to more complex HMMs\n",
    "- Share results (generated music, probabilities, etc.) for each model"
   ]
  }
 ],
 "metadata": {
  "kernelspec": {
   "display_name": "Python 3 (ipykernel)",
   "language": "python",
   "name": "python3"
  },
  "language_info": {
   "codemirror_mode": {
    "name": "ipython",
    "version": 3
   },
   "file_extension": ".py",
   "mimetype": "text/x-python",
   "name": "python",
   "nbconvert_exporter": "python",
   "pygments_lexer": "ipython3",
   "version": "3.12.2"
  }
 },
 "nbformat": 4,
 "nbformat_minor": 5
}
