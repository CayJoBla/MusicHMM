{
 "cells": [
  {
   "cell_type": "code",
   "execution_count": 1,
   "id": "49ae1828",
   "metadata": {},
   "outputs": [],
   "source": [
    "from music21 import *\n",
    "import numpy as np\n",
    "from hmmlearn.hmm import MultinomialHMM\n",
    "import os\n",
    "import pickle"
   ]
  },
  {
   "cell_type": "code",
   "execution_count": 2,
   "id": "4b15d535",
   "metadata": {},
   "outputs": [
    {
     "name": "stdout",
     "output_type": "stream",
     "text": [
      "Total number of Bach pieces to process from music21: 433\n",
      "Updated number of Bach pieces to process from music21: 368\n",
      "Number of songs in g minor key: 43\n",
      "Number of songs in d minor key: 29\n",
      "Number of songs in c minor key: 10\n",
      "Number of songs in b minor key: 27\n",
      "Number of songs in A major key: 32\n",
      "Number of songs in D major key: 25\n",
      "Number of songs in a minor key: 47\n",
      "Number of songs in G major key: 45\n",
      "Number of songs in C major key: 14\n",
      "Number of songs in e minor key: 19\n",
      "Number of songs in F major key: 25\n",
      "Number of songs in B- major key: 22\n",
      "Number of songs in E major key: 9\n",
      "Number of songs in E- major key: 9\n",
      "Number of songs in f# minor key: 7\n",
      "Number of songs in f minor key: 2\n",
      "Number of songs in A- major key: 1\n",
      "Number of songs in b- minor key: 2\n"
     ]
    }
   ],
   "source": [
    "# Analyze Bach music dataset\n",
    "all_bach_paths = corpus.getComposer('bach')\n",
    "print(\"Total number of Bach pieces to process from music21:\", len(all_bach_paths))\n",
    "\n",
    "parsed_bach = []\n",
    "keys = []\n",
    "songs_by_key = {}\n",
    "for i, p_bach in enumerate(all_bach_paths):\n",
    "    p = corpus.parse(p_bach)\n",
    "    if len(p.parts) != 4:\n",
    "        continue\n",
    "    parsed_bach.append(p)\n",
    "    if p.analyze('key') not in keys:\n",
    "        keys.append(p.analyze('key'))\n",
    "        songs_by_key[p.analyze('key')] = [p]\n",
    "    else:\n",
    "        songs_by_key[p.analyze('key')].append(p)\n",
    "        \n",
    "print(\"Updated number of Bach pieces to process from music21:\", len(parsed_bach))\n",
    "for key in keys:\n",
    "    print(\"Number of songs in\", key, \"key:\", len(songs_by_key[key]))"
   ]
  },
  {
   "cell_type": "code",
   "execution_count": 2,
   "id": "b598e33a",
   "metadata": {},
   "outputs": [],
   "source": [
    "if os.path.exists('transposed_music.pkl'):\n",
    "    with open('transposed_music.pkl', 'rb') as file:\n",
    "        transposed_bach_major, transposed_bach_minor = pickle.load(file)\n",
    "else:\n",
    "    # Transpose all songs into C\n",
    "    transposed_bach_major = []\n",
    "    transposed_bach_minor = []\n",
    "    for p in parsed_bach:\n",
    "        k = p.analyze('key')\n",
    "        i = interval.Interval(k.tonic, pitch.Pitch('C'))\n",
    "        if 'major' in k.name:\n",
    "            transposed_bach_major.append(p.transpose(i))\n",
    "        elif 'minor' in k.name:\n",
    "            transposed_bach_minor.append(p.transpose(i))\n",
    "    # Save as pickle so we don't need to again\n",
    "    with open('transposed_music.pkl', 'wb') as file:\n",
    "        pickle.dump([transposed_bach_major, transposed_bach_minor], file)"
   ]
  },
  {
   "cell_type": "code",
   "execution_count": 3,
   "id": "8122f2d2",
   "metadata": {},
   "outputs": [],
   "source": [
    "class Song:\n",
    "    def __init__(self):\n",
    "        \"\"\"Initialize Song class.\n",
    "        \n",
    "        Attributes:\n",
    "            score (Score): Song from music21 Score class\n",
    "            key (str): Key of the song\n",
    "            parts (ndarray(p,n)): Array of parts(p) and notes(n)\n",
    "            n_parts (int): Number of parts in the song\n",
    "            stream (Stream): music21 Stream object generated from parts\n",
    "        \"\"\"\n",
    "        return\n",
    "        \n",
    "    def parse(self, score):\n",
    "        \"\"\"Parse the MusicXML score into a trainable format\"\"\"\n",
    "        parts = []\n",
    "        discrete = [[] for _ in range(len(score.parts))]\n",
    "        \n",
    "        # Generate discretized notelist for each part\n",
    "        for i, p in enumerate(score.parts):\n",
    "            for n in p.recurse().notesAndRests:\n",
    "                if n.isRest:\n",
    "                    discrete[i] = discrete[i] + ([0] * int(n.quarterLength*12))\n",
    "                else:\n",
    "                    discrete[i] = discrete[i] + ([n.pitch] * int(n.quarterLength*12))\n",
    "        \n",
    "        # Generate states from the music\n",
    "        for i, p in enumerate(score.parts):\n",
    "            t = 0         # Time for dependence on other parts\n",
    "            notes = []    # States (pitch[0,t], ..., pitch[n_parts,t], dur)\n",
    "            for n in p.recurse().notesAndRests:\n",
    "                pitches = [part[t] for part in discrete]\n",
    "                notes.append(pitches + [n.quarterLength])\n",
    "                t += int(n.quarterLength*12)\n",
    "                \n",
    "            # Add notes list for each part to part list\n",
    "            parts.append(notes)  \n",
    "            \n",
    "            self.score = score\n",
    "            self.key = score.analyze('key')\n",
    "            self.parts = np.array(parts, dtype=object)\n",
    "            self.n_parts = len(parts)  \n",
    "        \n",
    "    def gen_stream(self, parts=None):\n",
    "        \"\"\"Generate a song from the parts and notes parsed\n",
    "        \n",
    "        Parameters:\n",
    "            parts (list): list of part indices to generate\n",
    "        \"\"\"\n",
    "        # If None, generate all parts\n",
    "        if parts is None:\n",
    "            parts = np.arange(self.n_parts)\n",
    "        parts = np.array(parts, dtype=int)\n",
    "        \n",
    "        # Generate the song for the parts indicated\n",
    "        s = stream.Stream()\n",
    "        for i, notes in enumerate(self.parts[parts]):\n",
    "            p = stream.Part(id=i)\n",
    "            for n in notes: \n",
    "                if n[i] == 0:\n",
    "                    p.append(note.Rest(quarterLength=n[self.n_parts]))\n",
    "                else:\n",
    "                    p.append(note.Note(n[i],quarterLength=n[self.n_parts]))\n",
    "            s.insert(0,p)\n",
    "        self.stream = s\n",
    "        \n",
    "    def play(self):\n",
    "        \"\"\"Play the song generated by gen_stream\"\"\"\n",
    "        self.stream.show('midi')  \n",
    "        \n",
    "    def save(self, filename):\n",
    "        \"\"\"Save the generated song as a midi file\"\"\"\n",
    "        self.stream.write('midi', filename)"
   ]
  },
  {
   "cell_type": "code",
   "execution_count": 41,
   "id": "78488384",
   "metadata": {},
   "outputs": [],
   "source": [
    "class MusicHMM:\n",
    "    def __init__(self, n_components):\n",
    "        \"\"\"Initialize MusicHMM class\n",
    "        \n",
    "        Attributes:\n",
    "            songs (list): List of Song class objects to train on\n",
    "            n_components (int): number of components for the HMM\n",
    "            HMMs (list(MultinomialHMM)): HMM objects for each part\n",
    "            states (ndarray): Array of possible states\n",
    "            state_ind (func): Map from note state to index\n",
    "            obs (list): Observed sequences of states by index\n",
    "            obs_len (list): length of observation sequence for each song\n",
    "        \"\"\"\n",
    "        self.n_components = n_components\n",
    "        \n",
    "        \n",
    "    def fit(self, songs, parts=[0,1,2,3]):\n",
    "        \"\"\"Train the HMM on the list of songs for part indices given\n",
    "        \n",
    "        Parameters:\n",
    "            songs (list): List of parsed Song objects to train on\n",
    "            parts (list): List of part indices from songs to use in training\n",
    "        \"\"\"\n",
    "        self.songs = songs\n",
    "        \n",
    "        # Generate state space data and observations by index\n",
    "        self.init_states(parts)\n",
    "        self.init_obs_matrices(parts)\n",
    "        \n",
    "        # Train a HMM for each part\n",
    "        n_parts = len(parts)\n",
    "        HMMs = []\n",
    "        for i in range(n_parts):\n",
    "            obs = np.array(self.obs[i]).reshape(-1, 1)   # Reshape observations\n",
    "            hmm = MultinomialHMM(n_components=self.n_components)\n",
    "            hmm.fit(obs, lengths=self.obs_len[i])\n",
    "            HMMs.append(hmm)\n",
    "            \n",
    "        self.HMMs = HMMs\n",
    "        \n",
    "    def init_states(self, parts):\n",
    "        \"\"\"Create and save a dictionary of unique note states\"\"\"\n",
    "        # Initialize\n",
    "        n_parts = len(parts)\n",
    "        states = [[] for _ in range(n_parts)]\n",
    "        \n",
    "        for song in self.songs:\n",
    "            for i, p in enumerate(song.parts[parts]):\n",
    "                for n in p:\n",
    "                    if n not in states[i]:\n",
    "                        states[i].append(n)\n",
    "                    \n",
    "        self.states = states\n",
    "        self.n_parts = n_parts\n",
    "        \n",
    "        \n",
    "    def init_obs_matrices(self, parts):\n",
    "        \"\"\"Create the matrices of note indices observed\"\"\"\n",
    "        # Initialize\n",
    "        obs = [[] for _ in range(self.n_parts)]\n",
    "        obs_len = [[] for _ in range(self.n_parts)]\n",
    "        \n",
    "        for i in range(self.n_parts):\n",
    "            for song in self.songs:\n",
    "                p = song.parts[parts][i]\n",
    "                seq = [self.states[i].index(n) for n in p]\n",
    "                obs[i] += seq\n",
    "                obs_len[i].append(len(seq))\n",
    "                \n",
    "        self.obs = obs\n",
    "        self.obs_len = obs_len \n",
    "                \n",
    "               \n",
    "    def gen_song(self, measures=12):\n",
    "        \"\"\"Sample a new song from the HMM\n",
    "        \n",
    "        Parameters:\n",
    "            num_notes (int): Number of notes to sample from each part\n",
    "            parts (list): List of part indices to generate in song\n",
    "        \"\"\"\n",
    "        s = stream.Score()\n",
    "        part_lengths = []\n",
    "        for i in range(self.n_parts):\n",
    "            hmm = self.HMMs[i]\n",
    "            ind = hmm.sample(measures*16)[0].ravel()\n",
    "            states = np.array(self.states[i])[ind]\n",
    "            \n",
    "            k = 0\n",
    "            for m in range(measures):\n",
    "                T = 0\n",
    "                while T != 4:\n",
    "                    d = states[k][-1]\n",
    "                    if T + d > 4:\n",
    "                        d = 4 - T\n",
    "                    states[k][-1] = d\n",
    "                    T += d\n",
    "                    k += 1\n",
    "            states = states[:k]\n",
    "            \n",
    "            p = stream.Part(id=i)\n",
    "            for n in states: \n",
    "                if n[i] == 0:\n",
    "                    p.append(note.Rest(quarterLength=n[-1]))\n",
    "                else:\n",
    "                    p.append(note.Note(n[i],quarterLength=n[-1]))\n",
    "            s.insert(0,p)\n",
    "            \n",
    "        new_song = Song()\n",
    "        new_song.parse(s)\n",
    "        new_song.gen_stream()\n",
    "        \n",
    "        return new_song\n",
    "    \n",
    "    \n",
    "    def dep_gen_song(self, measures=12, measure_len=4):\n",
    "        \"\"\"Sample a new song from the HMM with dependence between parts\n",
    "        \n",
    "        Parameters:\n",
    "            num_notes (int): Number of notes to sample from each part\n",
    "            parts (list): List of part indices to generate in song\n",
    "        \"\"\"\n",
    "        def measureize(obs, measures, measure_len=4):\n",
    "            \"\"\"Return measure-ized sequence of notes\"\"\"\n",
    "            k = 0       # Index for observation states\n",
    "            max_time = 12 * measure_len\n",
    "            for m in range(measures):\n",
    "                T = 0\n",
    "                while T != max_time:\n",
    "                    d = int(obs[k][-1] * 12)\n",
    "                    if T + d > max_time:\n",
    "                        d = max_time - T\n",
    "                        obs[k] = [obs[k][l] for l in range(self.n_parts)] + [float(d) / 12]\n",
    "                    T += d\n",
    "                    k += 1\n",
    "                    \n",
    "            return obs[:k]\n",
    "            \n",
    "        \n",
    "        # Generate states from trained models\n",
    "        hidden_seq = []      # List of hidden states sampled\n",
    "        for i in range(self.n_parts):\n",
    "            hmm = self.HMMs[i]\n",
    "            Z, X = hmm.sample(measures*measure_len*12)\n",
    "            if i == (-1 % self.n_parts):\n",
    "                bass_seq =  Z.ravel()\n",
    "            else:\n",
    "                hidden_seq.append(X)\n",
    "            \n",
    "        # Measure-ize bass\n",
    "        bass = measureize(np.array(self.states[-1])[bass_seq], measures, measure_len)\n",
    "            \n",
    "        # Discretize bass states\n",
    "        bass_disc = []\n",
    "        for n in bass:\n",
    "            bass_disc += [n[-2]] * int(n[-1] * 12)\n",
    "            \n",
    "        # Generate dependent states while measurizing\n",
    "        note_seq = [[] for _ in range(self.n_parts-1)] + [bass.tolist()]\n",
    "        conditional_notes = {}\n",
    "        K = [0 for _ in range(self.n_parts-1)]\n",
    "        max_time = 12 * measure_len\n",
    "        for m in range(measures):\n",
    "            for i in range(self.n_parts-1):\n",
    "                part_states = self.states[i]\n",
    "                x_states = hidden_seq[i]          # Generated hidden states\n",
    "                hmm = self.HMMs[i]\n",
    "                \n",
    "                T = 0\n",
    "                while T < max_time:\n",
    "                    cond = bass_disc[T]           # Find bass note condition\n",
    "\n",
    "                    # Find note state indices that satisfy the bass note condition\n",
    "                    if (i,cond) not in conditional_notes.keys():\n",
    "                        cond_ind = [j for j in range(len(part_states)) \n",
    "                                    if (part_states[j][-2]==cond)]\n",
    "                        conditional_notes[(i,cond)] = cond_ind\n",
    "                    else:\n",
    "                        cond_ind = conditional_notes[(i,cond)]\n",
    "                    cond_ind = np.array(cond_ind)\n",
    "                    \n",
    "                    # What if there are no notes conditionally?\n",
    "                    if len(cond_ind) > 0:\n",
    "                        # Get conditional probabilities\n",
    "                        prob = np.array(hmm.emissionprob_[x_states[K[i]], cond_ind])\n",
    "                        cond_prob = prob / np.sum(prob)\n",
    "                        \n",
    "                        # Generate a note conditioned on the discretized bass\n",
    "                        note_ind = cond_ind[np.random.choice(np.arange(len(prob)), \n",
    "                                                             size=1, p=cond_prob)]\n",
    "                        n = part_states[note_ind[0]]\n",
    "                    else:\n",
    "                        n = [0 for _ in range(self.n_parts-1)] + [cond, 1.0]\n",
    "                    \n",
    "                    # Adjust timing for measurization\n",
    "                    d = int(n[-1] * 12)\n",
    "                    if T + d > max_time:\n",
    "                        d = max_time - T\n",
    "                        n = [n[l] for l in range(self.n_parts)] + [float(d) / 12]\n",
    "                    T += d\n",
    "                    \n",
    "                    K[i] += 1\n",
    "                    note_seq[i].append(n)\n",
    "                    \n",
    "        # Cheat - Create a final C chord to end the song\n",
    "        chord = [pitch.Pitch('C4'), pitch.Pitch('E3'), \n",
    "                 pitch.Pitch('G2'), pitch.Pitch('C2'), 4.0]\n",
    "        for p in note_seq:\n",
    "            p.append(chord)\n",
    "        \n",
    "        \n",
    "                \n",
    "        # Create the Song object\n",
    "        s = stream.Score()\n",
    "        for i in range(self.n_parts):\n",
    "            p = stream.Part(id=i)\n",
    "            for n in note_seq[i]:\n",
    "                if n[i] == 0:\n",
    "                    p.append(note.Rest(quarterLength=n[-1]))\n",
    "                else:\n",
    "                    p.append(note.Note(n[i],quarterLength=n[-1]))\n",
    "            s.insert(0,p)\n",
    "            \n",
    "        new_song = Song()\n",
    "        new_song.parse(s)\n",
    "        new_song.gen_stream()\n",
    "        \n",
    "        return new_song"
   ]
  },
  {
   "cell_type": "code",
   "execution_count": 34,
   "id": "f78f6ab4",
   "metadata": {},
   "outputs": [
    {
     "data": {
      "text/html": [
       "\n",
       "                <div id='midiPlayerDiv35517'></div>\n",
       "                <link rel=\"stylesheet\" href=\"//cuthbertLab.github.io/music21j/css/m21.css\"\n",
       "                    type=\"text/css\" />\n",
       "                <script>\n",
       "                require.config({\n",
       "                    paths: {'music21': '//cuthbertLab.github.io/music21j/src/music21'}\n",
       "                });\n",
       "                require(['music21'], function() {\n",
       "                               mp = new music21.miditools.MidiPlayer();\n",
       "                               mp.addPlayer('#midiPlayerDiv35517');\n",
       "                               mp.base64Load('data:audio/midi;base64,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');\n",
       "                        });\n",
       "                </script>"
      ],
      "text/plain": [
       "<IPython.core.display.HTML object>"
      ]
     },
     "metadata": {},
     "output_type": "display_data"
    }
   ],
   "source": [
    "# Test on one song\n",
    "song = Song()\n",
    "song.parse(transposed_bach_major[0])\n",
    "song.gen_stream()\n",
    "song.play()"
   ]
  },
  {
   "cell_type": "code",
   "execution_count": 46,
   "id": "01365b93",
   "metadata": {},
   "outputs": [
    {
     "data": {
      "text/html": [
       "\n",
       "                <div id='midiPlayerDiv52476'></div>\n",
       "                <link rel=\"stylesheet\" href=\"//cuthbertLab.github.io/music21j/css/m21.css\"\n",
       "                    type=\"text/css\" />\n",
       "                <script>\n",
       "                require.config({\n",
       "                    paths: {'music21': '//cuthbertLab.github.io/music21j/src/music21'}\n",
       "                });\n",
       "                require(['music21'], function() {\n",
       "                               mp = new music21.miditools.MidiPlayer();\n",
       "                               mp.addPlayer('#midiPlayerDiv52476');\n",
       "                               mp.base64Load('data:audio/midi;base64,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');\n",
       "                        });\n",
       "                </script>"
      ],
      "text/plain": [
       "<IPython.core.display.HTML object>"
      ]
     },
     "metadata": {},
     "output_type": "display_data"
    }
   ],
   "source": [
    "# Test on one song\n",
    "song1 = Song()\n",
    "song1.parse(transposed_bach_major[1])\n",
    "song1.gen_stream()\n",
    "song1.play()"
   ]
  },
  {
   "cell_type": "code",
   "execution_count": 50,
   "id": "88678b99",
   "metadata": {
    "scrolled": false
   },
   "outputs": [
    {
     "name": "stderr",
     "output_type": "stream",
     "text": [
      "Fitting a model with 1979 free scalar parameters with only 96 data points will result in a degenerate solution.\n",
      "Fitting a model with 2419 free scalar parameters with only 121 data points will result in a degenerate solution.\n",
      "Fitting a model with 2519 free scalar parameters with only 119 data points will result in a degenerate solution.\n",
      "Fitting a model with 2539 free scalar parameters with only 129 data points will result in a degenerate solution.\n"
     ]
    },
    {
     "data": {
      "text/html": [
       "\n",
       "                <div id='midiPlayerDiv59188'></div>\n",
       "                <link rel=\"stylesheet\" href=\"//cuthbertLab.github.io/music21j/css/m21.css\"\n",
       "                    type=\"text/css\" />\n",
       "                <script>\n",
       "                require.config({\n",
       "                    paths: {'music21': '//cuthbertLab.github.io/music21j/src/music21'}\n",
       "                });\n",
       "                require(['music21'], function() {\n",
       "                               mp = new music21.miditools.MidiPlayer();\n",
       "                               mp.addPlayer('#midiPlayerDiv59188');\n",
       "                               mp.base64Load('data:audio/midi;base64,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');\n",
       "                        });\n",
       "                </script>"
      ],
      "text/plain": [
       "<IPython.core.display.HTML object>"
      ]
     },
     "metadata": {},
     "output_type": "display_data"
    }
   ],
   "source": [
    "# Train on one song\n",
    "mhmm = MusicHMM(20)\n",
    "mhmm.fit([song, song1], parts=[0,1,2,3])\n",
    "new_song = mhmm.dep_gen_song(1, 48)\n",
    "new_song.play()"
   ]
  },
  {
   "cell_type": "code",
   "execution_count": 36,
   "id": "0cbcd422",
   "metadata": {},
   "outputs": [
    {
     "name": "stdout",
     "output_type": "stream",
     "text": [
      "Number of major songs: 182\n",
      "Number of minor songs: 186\n"
     ]
    }
   ],
   "source": [
    "# Save file, load from there if it exists, because this takes a hot second to run\n",
    "filename = 'processed_music.pkl'\n",
    "if os.path.exists(filename):\n",
    "    with open(filename, 'rb') as file:\n",
    "        maj_songlist, min_songlist = pickle.load(file)\n",
    "else:\n",
    "    # Create song classes for all transposed Bach music\n",
    "    maj_songlist = []\n",
    "    min_songlist = []\n",
    "\n",
    "    for p in transposed_bach_major:\n",
    "        song = Song()\n",
    "        song.parse(p)\n",
    "        maj_songlist.append(song)\n",
    "\n",
    "    for p in transposed_bach_minor:\n",
    "        song = Song()\n",
    "        song.parse(p)\n",
    "        min_songlist.append(song)\n",
    "    \n",
    "    with open(filename, 'wb') as file:\n",
    "        pickle.dump([maj_songlist, min_songlist], file)\n",
    "\n",
    "print(\"Number of major songs:\", len(maj_songlist))\n",
    "print(\"Number of minor songs:\", len(min_songlist))"
   ]
  },
  {
   "cell_type": "markdown",
   "id": "e272ccfb",
   "metadata": {},
   "source": [
    "## Train on Major songs"
   ]
  },
  {
   "cell_type": "code",
   "execution_count": 42,
   "id": "0895039c",
   "metadata": {},
   "outputs": [],
   "source": [
    "# Train on songlist of transposed music\n",
    "filename = 'maj_mhmm.pkl'\n",
    "if os.path.exists(filename):\n",
    "    with open(filename, 'rb') as file:\n",
    "        maj_mhmm = pickle.load(file)\n",
    "else:\n",
    "    maj_mhmm = MusicHMM(100)\n",
    "    maj_mhmm.fit(maj_songlist)\n",
    "    # Save as pickle so we don't need to again\n",
    "    with open(filename, 'wb') as file:\n",
    "        pickle.dump(maj_mhmm, file)"
   ]
  },
  {
   "cell_type": "code",
   "execution_count": 45,
   "id": "fb861b18",
   "metadata": {},
   "outputs": [
    {
     "data": {
      "text/html": [
       "\n",
       "                <div id='midiPlayerDiv49637'></div>\n",
       "                <link rel=\"stylesheet\" href=\"//cuthbertLab.github.io/music21j/css/m21.css\"\n",
       "                    type=\"text/css\" />\n",
       "                <script>\n",
       "                require.config({\n",
       "                    paths: {'music21': '//cuthbertLab.github.io/music21j/src/music21'}\n",
       "                });\n",
       "                require(['music21'], function() {\n",
       "                               mp = new music21.miditools.MidiPlayer();\n",
       "                               mp.addPlayer('#midiPlayerDiv49637');\n",
       "                               mp.base64Load('data:audio/midi;base64,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');\n",
       "                        });\n",
       "                </script>"
      ],
      "text/plain": [
       "<IPython.core.display.HTML object>"
      ]
     },
     "metadata": {},
     "output_type": "display_data"
    }
   ],
   "source": [
    "new_song = maj_mhmm.dep_gen_song(2, 24)\n",
    "new_song.play()\n",
    "new_song.save(\"generated_music/dep_maj_song1.midi\")"
   ]
  },
  {
   "cell_type": "code",
   "execution_count": 44,
   "id": "ec8fd314",
   "metadata": {
    "scrolled": true
   },
   "outputs": [
    {
     "data": {
      "text/html": [
       "\n",
       "                <div id='midiPlayerDiv46966'></div>\n",
       "                <link rel=\"stylesheet\" href=\"//cuthbertLab.github.io/music21j/css/m21.css\"\n",
       "                    type=\"text/css\" />\n",
       "                <script>\n",
       "                require.config({\n",
       "                    paths: {'music21': '//cuthbertLab.github.io/music21j/src/music21'}\n",
       "                });\n",
       "                require(['music21'], function() {\n",
       "                               mp = new music21.miditools.MidiPlayer();\n",
       "                               mp.addPlayer('#midiPlayerDiv46966');\n",
       "                               mp.base64Load('data:audio/midi;base64,TVRoZAAAAAYAAQAFBABNVHJrAAAAFAD/UQMHoSAA/1gEBAIYCIgA/y8ATVRyawAAAeIA/wMAAOAAQIgAkEBaiACAQAAAkENaiACAQwAAkDpahACAOgAAkD5ahACAPgAAkEFaiACAQQAAkEBamACAQAAAkD5aiACAPgAAkEBahACAQAAAkEBaiACAQAAAkEFaiACAQQAAkEFahACAQQAAkEFaiACAQQAAkEBakACAQAAAkD5aiACAPgAAkEFaiACAQQAAkDdaiACANwAAkDxaiACAPAAAkEBaiACAQAAAkEFaiACAQQAAkDxaiACAPAAAkENaiACAQwAAkEFaiACAQQAAkDtaiACAOwAAkEBaiACAQAAAkDxaiACAPAAAkEFaiACAQQAAkD5aiACAPgAAkEBaiACAQAAAkEBaiACAQAAAkDdahACANwAAkENaiACAQwAAkEBahACAQAAAkEBaiACAQAAAkDtaiACAOwAAkD5aiACAPgAAkEVaiACARQAAkEBahACAQAAAkEBaiACAQAAAkEBaiACAQAAAkDtahACAOwAAkEFaiACAQQAAkEBahACAQAAAkEBaiACAQAAAkEFaiACAQQAAkEFaiACAQQAAkEBahACAQAAAkDxaiACAPAAAkENaiACAQwAAkEFaiACAQQAAkEBahACAQAAAkEFahACAQQAAkDxaoACAPACIAP8vAE1UcmsAAAJpAP8DAADgAECIAJA8WogAgDwAAJA0WogAgDQAAJA7WoQAgDsAAJA5WowAgDkAAJA3WpAAgDcAAJA1WoQAgDUAAJA8WoQAgDwAAJA5WoQAgDkAAJA8WoQAgDwAAJA8WogAgDwAAJA7WogAgDsAAJA7WoQAgDsAAJA1WowAgDUAAJBAWoQAgEAAAJA8WogAgDwAAJA6WoQAgDoAAJA2WogAgDYAAJA5WoQAgDkAAJA5WoQAgDkAAJA5WoQAgDkAAJA8WoQAgDwAAJA3WogAgDcAAJA8WoQAgDwAAJA7WoQAgDsAAJA7WoQAgDsAAJAwWoQAgDAAAJBDWpgAgEMAAJA+WogAgD4AAJBAWogAgEAAAJA9WogAgD0AAJA+WogAgD4AAJA7WoQAgDsAAJA8WoQAgDwAAJA8WogAgDwAAJA3WoQAgDcAAJA7WogAgDsAAJA5WogAgDkAAJA0WoQAgDQAAJA6WoQAgDoAAJA8WogAgDwAAJA5WoIAgDkAAJAyWogAgDIAAJA7WoQAgDsAAJA7WoQAgDsAAJA8WoIAgDwAAJBAWoQAgEAAAJBAWoQAgEAAAJA8WoQAgDwAAJA7WoIAgDsAAJA7WoQAgDsAAJA7WoIAgDsAAJA2WoQAgDYAAJA+WogAgD4AAJA8WogAgDwAAJA4WoQAgDgAAJA2WogAgDYAAJA5WoQAgDkAAJA6WoQAgDoAAJA8WoQAgDwAAJBAWogAgEAAAJA8WoQAgDwAAJA8WoIAgDwAAJA+WoQAgD4AAJA8WoQAgDwAAJA8WogAgDwAAJA9WoIAgD0AAJA0WqAAgDQAiAD/LwBNVHJrAAACTgD/AwAA4ABAiACQQFqIAIBAAACQN1qIAIA3AACQNVqEAIA1AACQOVqIAIA5AACQMFqEAIAwAACQNVqMAIA1AACQMFqIAIAwAACQMlqIAIAyAACQOVqEAIA5AACQQFqIAIBAAACQMlqEAIAyAACQMFqIAIAwAACQL1qIAIAvAACQN1qEAIA3AACQN1qIAIA3AACQN1qIAIA3AACQMFqCAIAwAACQMlqEAIAyAACQMlqEAIAyAACQOVqGAIA5AACQN1qEAIA3AACQN1qIAIA3AACQNVqEAIA1AACQN1qEAIA3AACQMlqEAIAyAACQNVqIAIA1AACQPFqIAIA8AACQN1qIAIA3AACQLVqQAIAtAACQN1qQAIA3AACQNlqEAIA2AACQNFqEAIA0AACQMlqIAIAyAACQNFqIAIA0AACQNFqEAIA0AACQLVqIAIAtAACQOVqEAIA5AACQNlqEAIA2AACQL1qEAIAvAACQMFqEAIAwAACQN1qMAIA3AACQNVqEAIA1AACQNVqEAIA1AACQKVqIAIApAACQNFqIAIA0AACQN1qEAIA3AACQNVqEAIA1AACQNVqIAIA1AACQMlqEAIAyAACQMFqEAIAwAACQN1qIAIA3AACQMFqEAIAwAACQO1qCAIA7AACQNVqIAIA1AACQL1qEAIAvAACQO1qEAIA7AACQOVqCAIA5AACQPFqEAIA8AACQN1qIAIA3AACQNlqIAIA2AACQMlqEAIAyAACQN1qEAIA3AACQOVqEAIA5AACQK1qgAIArAIgA/y8ATVRyawAAAf0A/wMAAOAAQIgAkDBaiACAMAAAkChahACAKAAAkCZakACAJgAAkC1ahACALQAAkC1ahACALQAAkCRaiACAJAAAkDZahACANgAAkClaiACAKQAAkDJaiACAMgAAkC9aiACALwAAkC1ahACALQAAkB9aiACAHwAAkCtahACAKwAAkDBaiACAMAAAkDRahACANAAAkDVahACANQAAkDdaiACANwAAkDRahACANAAAkCtajACAKwAAkDBaiACAMAAAkC1ahACALQAAkC1aiACALQAAkChaiACAKAAAkDBahACAMAAAkCtahACAKwAAkC9aiACALwAAkDJahACAMgAAkDJaiACAMgAAkCRaiACAJAAAkDRaiACANAAAkC9ahACALwAAkCtakACAKwAAkCtahACAKwAAkC1ahACALQAAkCZaiACAJgAAkClahACAKQAAkC9ahACALwAAkC1aiACALQAAkCZahACAJgAAkCRamACAJAAAkDBaiACAMAAAkC1ahACALQAAkCtaiACAKwAAkCZaiACAJgAAkDJaiACAMgAAkChahACAKAAAkDBahACAMAAAkDBamACAMAAAkCpahACAKgAAkC1aiACALQAAkC9ahACALwAAkC9aiACALwAAkChahACAKAAAkDJaiACAMgAAkCRaoACAJACIAP8vAA==');\n",
       "                        });\n",
       "                </script>"
      ],
      "text/plain": [
       "<IPython.core.display.HTML object>"
      ]
     },
     "metadata": {},
     "output_type": "display_data"
    }
   ],
   "source": [
    "new_song = maj_mhmm.dep_gen_song(12, 4)\n",
    "new_song.play()\n",
    "new_song.save(\"generated_music/dep_maj_song2.midi\")"
   ]
  },
  {
   "cell_type": "markdown",
   "id": "b13f0883",
   "metadata": {},
   "source": [
    "## Train on Minor songs"
   ]
  },
  {
   "cell_type": "code",
   "execution_count": 13,
   "id": "93e23ccc",
   "metadata": {},
   "outputs": [
    {
     "name": "stderr",
     "output_type": "stream",
     "text": [
      "Fitting a model with 281399 free scalar parameters with only 9436 data points will result in a degenerate solution.\n",
      "Fitting a model with 343299 free scalar parameters with only 10957 data points will result in a degenerate solution.\n",
      "Fitting a model with 345599 free scalar parameters with only 11207 data points will result in a degenerate solution.\n",
      "Fitting a model with 334799 free scalar parameters with only 11595 data points will result in a degenerate solution.\n"
     ]
    }
   ],
   "source": [
    "# Train on songlist of transposed music\n",
    "min_mhmm = MusicHMM(100)\n",
    "min_mhmm.fit(maj_songlist)"
   ]
  },
  {
   "cell_type": "code",
   "execution_count": 14,
   "id": "ed704f74",
   "metadata": {},
   "outputs": [
    {
     "data": {
      "text/html": [
       "\n",
       "                <div id='midiPlayerDiv1260479'></div>\n",
       "                <link rel=\"stylesheet\" href=\"//cuthbertLab.github.io/music21j/css/m21.css\"\n",
       "                    type=\"text/css\" />\n",
       "                <script>\n",
       "                require.config({\n",
       "                    paths: {'music21': '//cuthbertLab.github.io/music21j/src/music21'}\n",
       "                });\n",
       "                require(['music21'], function() {\n",
       "                               mp = new music21.miditools.MidiPlayer();\n",
       "                               mp.addPlayer('#midiPlayerDiv1260479');\n",
       "                               mp.base64Load('data:audio/midi;base64,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');\n",
       "                        });\n",
       "                </script>"
      ],
      "text/plain": [
       "<IPython.core.display.HTML object>"
      ]
     },
     "metadata": {},
     "output_type": "display_data"
    }
   ],
   "source": [
    "new_song = min_mhmm.gen_song(num_notes=40)\n",
    "new_song.play()\n",
    "new_song.save(\"generated_music/min_song1.midi\")"
   ]
  },
  {
   "cell_type": "code",
   "execution_count": 15,
   "id": "96f18236",
   "metadata": {},
   "outputs": [
    {
     "data": {
      "text/html": [
       "\n",
       "                <div id='midiPlayerDiv1262474'></div>\n",
       "                <link rel=\"stylesheet\" href=\"//cuthbertLab.github.io/music21j/css/m21.css\"\n",
       "                    type=\"text/css\" />\n",
       "                <script>\n",
       "                require.config({\n",
       "                    paths: {'music21': '//cuthbertLab.github.io/music21j/src/music21'}\n",
       "                });\n",
       "                require(['music21'], function() {\n",
       "                               mp = new music21.miditools.MidiPlayer();\n",
       "                               mp.addPlayer('#midiPlayerDiv1262474');\n",
       "                               mp.base64Load('data:audio/midi;base64,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');\n",
       "                        });\n",
       "                </script>"
      ],
      "text/plain": [
       "<IPython.core.display.HTML object>"
      ]
     },
     "metadata": {},
     "output_type": "display_data"
    }
   ],
   "source": [
    "new_song = min_mhmm.gen_song(num_notes=40)\n",
    "new_song.play()\n",
    "new_song.save(\"generated_music/min_song2.midi\")"
   ]
  },
  {
   "cell_type": "code",
   "execution_count": null,
   "id": "b6730a4b",
   "metadata": {},
   "outputs": [],
   "source": []
  }
 ],
 "metadata": {
  "kernelspec": {
   "display_name": "Python 3 (ipykernel)",
   "language": "python",
   "name": "python3"
  },
  "language_info": {
   "codemirror_mode": {
    "name": "ipython",
    "version": 3
   },
   "file_extension": ".py",
   "mimetype": "text/x-python",
   "name": "python",
   "nbconvert_exporter": "python",
   "pygments_lexer": "ipython3",
   "version": "3.8.12"
  }
 },
 "nbformat": 4,
 "nbformat_minor": 5
}
